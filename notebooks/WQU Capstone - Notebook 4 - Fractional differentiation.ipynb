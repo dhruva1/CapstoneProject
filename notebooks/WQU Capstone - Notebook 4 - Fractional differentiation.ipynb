{
 "cells": [
  {
   "cell_type": "markdown",
   "metadata": {},
   "source": [
    "# WQU Capstone project - Short-term trading strategy on G10 currencies\n",
    "## Notebook four - Fractional differentiation\n",
    "\n",
    "* Sergey Chigrinov - chigrinov.s.88@gmail.com\n",
    "* Dhruv Agrawal -  dhruva1@stanfordalumni.org\n",
    "* Man Sing Ho - mshoalbert@gmail.com\n",
    "\n",
    "### Jun-Aug-2020"
   ]
  },
  {
   "cell_type": "markdown",
   "metadata": {},
   "source": [
    "Financial time series are usually non-stationary. Differentiation is the most common way to solve this. However, this approach does not keep the \"memory\" of a series. As an alternative option, we may use fractionally differentieted features."
   ]
  },
  {
   "cell_type": "code",
   "execution_count": 1,
   "metadata": {},
   "outputs": [],
   "source": [
    "import sys\n",
    "import os\n",
    "#insert you own path or use relative path\n",
    "path_to_project = os.path.realpath('..') # r'C:\\WQU\\Capstone\\Working_files'\n",
    "sys.path.append(path_to_project)"
   ]
  },
  {
   "cell_type": "code",
   "execution_count": 2,
   "metadata": {},
   "outputs": [],
   "source": [
    "import pandas as pd\n",
    "import numpy as np\n",
    "import datetime as dt\n",
    "from multiprocessing import cpu_count\n",
    "import warnings\n",
    "warnings.filterwarnings('ignore')"
   ]
  },
  {
   "cell_type": "code",
   "execution_count": 3,
   "metadata": {},
   "outputs": [],
   "source": [
    "from WQUcapstoneCode.fracdif.fracdif import frac_diff_ffd"
   ]
  },
  {
   "cell_type": "code",
   "execution_count": 4,
   "metadata": {},
   "outputs": [],
   "source": [
    "import matplotlib as mpl\n",
    "import matplotlib.pyplot as plt\n",
    "import seaborn as sns\n",
    "%matplotlib inline\n",
    "plt.style.use('seaborn-talk')\n",
    "plt.style.use('bmh')"
   ]
  },
  {
   "cell_type": "code",
   "execution_count": 5,
   "metadata": {},
   "outputs": [],
   "source": [
    "ticker = 'AUD/USD'\n",
    "input_path = os.path.join(path_to_project, 'preprocessed_data', ''.join(ticker.split('/')) + '.csv')\n",
    "features = pd.read_csv(input_path, index_col=0)"
   ]
  },
  {
   "cell_type": "markdown",
   "metadata": {},
   "source": [
    "If we use large enough timespan, the data becomes stationary. For the purpose of this exercise let's exclude 33% of this data. We're going to train our data only on a part of the whole datased anyway."
   ]
  },
  {
   "cell_type": "code",
   "execution_count": 6,
   "metadata": {},
   "outputs": [],
   "source": [
    "features = features[int(len(features)/3):]"
   ]
  },
  {
   "cell_type": "code",
   "execution_count": 19,
   "metadata": {},
   "outputs": [],
   "source": [
    "from statsmodels.tsa.stattools import adfuller"
   ]
  },
  {
   "cell_type": "code",
   "execution_count": 36,
   "metadata": {},
   "outputs": [],
   "source": [
    "result = adfuller(features.price)"
   ]
  },
  {
   "cell_type": "code",
   "execution_count": 37,
   "metadata": {},
   "outputs": [
    {
     "name": "stdout",
     "output_type": "stream",
     "text": [
      "ADF Statistic: -1.530173\n",
      "p-value: 0.518536\n",
      "Critical Values:\n",
      "\t1%: -3.432\n",
      "\t5%: -2.862\n",
      "\t10%: -2.567\n"
     ]
    }
   ],
   "source": [
    "print('ADF Statistic: %f' % result[0])\n",
    "print('p-value: %f' % result[1])\n",
    "print('Critical Values:')\n",
    "for key, value in result[4].items():\n",
    "    print('\\t%s: %.3f' % (key, value))"
   ]
  },
  {
   "cell_type": "markdown",
   "metadata": {},
   "source": [
    "Looking at the above, we fail to reject the null hypothesis that the data is non-stationary. Therefore, we need to transform it to make it stationary.\n",
    "Let's check if other features are non-stationary as well."
   ]
  },
  {
   "cell_type": "code",
   "execution_count": 38,
   "metadata": {
    "scrolled": true
   },
   "outputs": [
    {
     "data": {
      "text/plain": [
       "{'price': 'non-stationary',\n",
       " 'fast': 'non-stationary',\n",
       " 'slow': 'non-stationary',\n",
       " 'average': 'non-stationary',\n",
       " 'upper_band': 'non-stationary',\n",
       " 'lower_band': 'non-stationary',\n",
       " 'tenka_sen': 'non-stationary',\n",
       " 'kijun_sen': 'non-stationary',\n",
       " 'senkou_span_a': 'non-stationary',\n",
       " 'senkou_span_b': 'non-stationary'}"
      ]
     },
     "execution_count": 38,
     "metadata": {},
     "output_type": "execute_result"
    }
   ],
   "source": [
    "non_stationary = {col:'non-stationary' for col in features.columns if adfuller(features[col].dropna())[1]>0.05}\n",
    "non_stationary"
   ]
  },
  {
   "cell_type": "markdown",
   "metadata": {},
   "source": [
    "Ok, we have a number of non-stationary variables. To make them stationary, we may use first order differencing, as below. "
   ]
  },
  {
   "cell_type": "code",
   "execution_count": 39,
   "metadata": {},
   "outputs": [
    {
     "data": {
      "text/plain": [
       "{}"
      ]
     },
     "execution_count": 39,
     "metadata": {},
     "output_type": "execute_result"
    }
   ],
   "source": [
    "{col:'non-stationary' for col in features.columns if adfuller(features[col].diff().dropna())[1]>0.05}"
   ]
  },
  {
   "cell_type": "markdown",
   "metadata": {},
   "source": [
    "However, we want to keep \"memory\". Therefore, we need to find a minimum value of the parameter d to make series stationary."
   ]
  },
  {
   "cell_type": "code",
   "execution_count": 40,
   "metadata": {},
   "outputs": [],
   "source": [
    "def analyze_ffd(target_col):\n",
    "    cols = ['adfStat','pVal','lags','nObs','95% conf']#,'corr']\n",
    "    out = pd.DataFrame(columns=cols)\n",
    "    for d in np.linspace(0,1,11):\n",
    "        df = frac_diff_ffd(pd.DataFrame(features[target_col].dropna()),d,thresh=1e-5)\n",
    "        df = adfuller(df[target_col].dropna())\n",
    "        out.loc[d]=list(df[:4])+[df[4]['5%']]\n",
    "    f,ax=plt.subplots()\n",
    "    out['adfStat'].plot(ax=ax, marker='X')\n",
    "    ax.axhline(out['95% conf'].mean(),lw=1,color='r',ls='dotted')\n",
    "    ax.set_title('min d with thresh=0.01')\n",
    "    ax.set_xlabel('d values')\n",
    "    ax.set_ylabel('adf stat');\n",
    "    display(out)"
   ]
  },
  {
   "cell_type": "code",
   "execution_count": 41,
   "metadata": {},
   "outputs": [
    {
     "data": {
      "text/html": [
       "<div>\n",
       "<style scoped>\n",
       "    .dataframe tbody tr th:only-of-type {\n",
       "        vertical-align: middle;\n",
       "    }\n",
       "\n",
       "    .dataframe tbody tr th {\n",
       "        vertical-align: top;\n",
       "    }\n",
       "\n",
       "    .dataframe thead th {\n",
       "        text-align: right;\n",
       "    }\n",
       "</style>\n",
       "<table border=\"1\" class=\"dataframe\">\n",
       "  <thead>\n",
       "    <tr style=\"text-align: right;\">\n",
       "      <th></th>\n",
       "      <th>adfStat</th>\n",
       "      <th>pVal</th>\n",
       "      <th>lags</th>\n",
       "      <th>nObs</th>\n",
       "      <th>95% conf</th>\n",
       "    </tr>\n",
       "  </thead>\n",
       "  <tbody>\n",
       "    <tr>\n",
       "      <th>0.0</th>\n",
       "      <td>-1.530173</td>\n",
       "      <td>5.185359e-01</td>\n",
       "      <td>26.0</td>\n",
       "      <td>4719.0</td>\n",
       "      <td>-2.862153</td>\n",
       "    </tr>\n",
       "    <tr>\n",
       "      <th>0.1</th>\n",
       "      <td>-0.985802</td>\n",
       "      <td>7.584075e-01</td>\n",
       "      <td>6.0</td>\n",
       "      <td>664.0</td>\n",
       "      <td>-2.865903</td>\n",
       "    </tr>\n",
       "    <tr>\n",
       "      <th>0.2</th>\n",
       "      <td>-2.058241</td>\n",
       "      <td>2.616342e-01</td>\n",
       "      <td>7.0</td>\n",
       "      <td>1357.0</td>\n",
       "      <td>-2.863672</td>\n",
       "    </tr>\n",
       "    <tr>\n",
       "      <th>0.3</th>\n",
       "      <td>-3.611048</td>\n",
       "      <td>5.553294e-03</td>\n",
       "      <td>26.0</td>\n",
       "      <td>2445.0</td>\n",
       "      <td>-2.862723</td>\n",
       "    </tr>\n",
       "    <tr>\n",
       "      <th>0.4</th>\n",
       "      <td>-4.264267</td>\n",
       "      <td>5.119450e-04</td>\n",
       "      <td>26.0</td>\n",
       "      <td>3262.0</td>\n",
       "      <td>-2.862426</td>\n",
       "    </tr>\n",
       "    <tr>\n",
       "      <th>0.5</th>\n",
       "      <td>-5.289950</td>\n",
       "      <td>5.744309e-06</td>\n",
       "      <td>24.0</td>\n",
       "      <td>3795.0</td>\n",
       "      <td>-2.862302</td>\n",
       "    </tr>\n",
       "    <tr>\n",
       "      <th>0.6</th>\n",
       "      <td>-6.611523</td>\n",
       "      <td>6.359304e-09</td>\n",
       "      <td>24.0</td>\n",
       "      <td>4132.0</td>\n",
       "      <td>-2.862240</td>\n",
       "    </tr>\n",
       "    <tr>\n",
       "      <th>0.7</th>\n",
       "      <td>-8.102414</td>\n",
       "      <td>1.289225e-12</td>\n",
       "      <td>24.0</td>\n",
       "      <td>4350.0</td>\n",
       "      <td>-2.862205</td>\n",
       "    </tr>\n",
       "    <tr>\n",
       "      <th>0.8</th>\n",
       "      <td>-9.777901</td>\n",
       "      <td>6.856305e-17</td>\n",
       "      <td>24.0</td>\n",
       "      <td>4494.0</td>\n",
       "      <td>-2.862183</td>\n",
       "    </tr>\n",
       "    <tr>\n",
       "      <th>0.9</th>\n",
       "      <td>-10.832800</td>\n",
       "      <td>1.691283e-19</td>\n",
       "      <td>25.0</td>\n",
       "      <td>4596.0</td>\n",
       "      <td>-2.862169</td>\n",
       "    </tr>\n",
       "    <tr>\n",
       "      <th>1.0</th>\n",
       "      <td>-12.330468</td>\n",
       "      <td>6.444157e-23</td>\n",
       "      <td>25.0</td>\n",
       "      <td>4719.0</td>\n",
       "      <td>-2.862153</td>\n",
       "    </tr>\n",
       "  </tbody>\n",
       "</table>\n",
       "</div>"
      ],
      "text/plain": [
       "       adfStat          pVal  lags    nObs  95% conf\n",
       "0.0  -1.530173  5.185359e-01  26.0  4719.0 -2.862153\n",
       "0.1  -0.985802  7.584075e-01   6.0   664.0 -2.865903\n",
       "0.2  -2.058241  2.616342e-01   7.0  1357.0 -2.863672\n",
       "0.3  -3.611048  5.553294e-03  26.0  2445.0 -2.862723\n",
       "0.4  -4.264267  5.119450e-04  26.0  3262.0 -2.862426\n",
       "0.5  -5.289950  5.744309e-06  24.0  3795.0 -2.862302\n",
       "0.6  -6.611523  6.359304e-09  24.0  4132.0 -2.862240\n",
       "0.7  -8.102414  1.289225e-12  24.0  4350.0 -2.862205\n",
       "0.8  -9.777901  6.856305e-17  24.0  4494.0 -2.862183\n",
       "0.9 -10.832800  1.691283e-19  25.0  4596.0 -2.862169\n",
       "1.0 -12.330468  6.444157e-23  25.0  4719.0 -2.862153"
      ]
     },
     "metadata": {},
     "output_type": "display_data"
    },
    {
     "data": {
      "image/png": "[encoded data removed]",
      "text/plain": [
       "<Figure size 748.8x514.8 with 1 Axes>"
      ]
     },
     "metadata": {
      "needs_background": "light"
     },
     "output_type": "display_data"
    }
   ],
   "source": [
    "analyze_ffd('price')"
   ]
  },
  {
   "cell_type": "markdown",
   "metadata": {},
   "source": [
    "From the above chart it can be seen that d-value above 0.2 allows to make the price time series stationary. First-differencing is equivalent to d=1. To decide on d, we may experiment with ofther non-stationary columns. "
   ]
  },
  {
   "cell_type": "code",
   "execution_count": 42,
   "metadata": {},
   "outputs": [
    {
     "data": {
      "text/html": [
       "<div>\n",
       "<style scoped>\n",
       "    .dataframe tbody tr th:only-of-type {\n",
       "        vertical-align: middle;\n",
       "    }\n",
       "\n",
       "    .dataframe tbody tr th {\n",
       "        vertical-align: top;\n",
       "    }\n",
       "\n",
       "    .dataframe thead th {\n",
       "        text-align: right;\n",
       "    }\n",
       "</style>\n",
       "<table border=\"1\" class=\"dataframe\">\n",
       "  <thead>\n",
       "    <tr style=\"text-align: right;\">\n",
       "      <th></th>\n",
       "      <th>adfStat</th>\n",
       "      <th>pVal</th>\n",
       "      <th>lags</th>\n",
       "      <th>nObs</th>\n",
       "      <th>95% conf</th>\n",
       "    </tr>\n",
       "  </thead>\n",
       "  <tbody>\n",
       "    <tr>\n",
       "      <th>0.0</th>\n",
       "      <td>-1.482826</td>\n",
       "      <td>5.419895e-01</td>\n",
       "      <td>21.0</td>\n",
       "      <td>4724.0</td>\n",
       "      <td>-2.862152</td>\n",
       "    </tr>\n",
       "    <tr>\n",
       "      <th>0.1</th>\n",
       "      <td>-1.134674</td>\n",
       "      <td>7.010482e-01</td>\n",
       "      <td>5.0</td>\n",
       "      <td>665.0</td>\n",
       "      <td>-2.865896</td>\n",
       "    </tr>\n",
       "    <tr>\n",
       "      <th>0.2</th>\n",
       "      <td>-1.870872</td>\n",
       "      <td>3.458856e-01</td>\n",
       "      <td>10.0</td>\n",
       "      <td>1354.0</td>\n",
       "      <td>-2.863677</td>\n",
       "    </tr>\n",
       "    <tr>\n",
       "      <th>0.3</th>\n",
       "      <td>-3.776981</td>\n",
       "      <td>3.151803e-03</td>\n",
       "      <td>19.0</td>\n",
       "      <td>2452.0</td>\n",
       "      <td>-2.862719</td>\n",
       "    </tr>\n",
       "    <tr>\n",
       "      <th>0.4</th>\n",
       "      <td>-4.581603</td>\n",
       "      <td>1.396396e-04</td>\n",
       "      <td>19.0</td>\n",
       "      <td>3269.0</td>\n",
       "      <td>-2.862425</td>\n",
       "    </tr>\n",
       "    <tr>\n",
       "      <th>0.5</th>\n",
       "      <td>-5.725840</td>\n",
       "      <td>6.774644e-07</td>\n",
       "      <td>19.0</td>\n",
       "      <td>3800.0</td>\n",
       "      <td>-2.862301</td>\n",
       "    </tr>\n",
       "    <tr>\n",
       "      <th>0.6</th>\n",
       "      <td>-7.143825</td>\n",
       "      <td>3.271706e-10</td>\n",
       "      <td>19.0</td>\n",
       "      <td>4137.0</td>\n",
       "      <td>-2.862239</td>\n",
       "    </tr>\n",
       "    <tr>\n",
       "      <th>0.7</th>\n",
       "      <td>-8.574161</td>\n",
       "      <td>8.047031e-14</td>\n",
       "      <td>19.0</td>\n",
       "      <td>4355.0</td>\n",
       "      <td>-2.862204</td>\n",
       "    </tr>\n",
       "    <tr>\n",
       "      <th>0.8</th>\n",
       "      <td>-10.222635</td>\n",
       "      <td>5.275675e-18</td>\n",
       "      <td>20.0</td>\n",
       "      <td>4498.0</td>\n",
       "      <td>-2.862183</td>\n",
       "    </tr>\n",
       "    <tr>\n",
       "      <th>0.9</th>\n",
       "      <td>-11.536545</td>\n",
       "      <td>3.721430e-21</td>\n",
       "      <td>20.0</td>\n",
       "      <td>4601.0</td>\n",
       "      <td>-2.862168</td>\n",
       "    </tr>\n",
       "    <tr>\n",
       "      <th>1.0</th>\n",
       "      <td>-12.925147</td>\n",
       "      <td>3.801682e-24</td>\n",
       "      <td>20.0</td>\n",
       "      <td>4724.0</td>\n",
       "      <td>-2.862152</td>\n",
       "    </tr>\n",
       "  </tbody>\n",
       "</table>\n",
       "</div>"
      ],
      "text/plain": [
       "       adfStat          pVal  lags    nObs  95% conf\n",
       "0.0  -1.482826  5.419895e-01  21.0  4724.0 -2.862152\n",
       "0.1  -1.134674  7.010482e-01   5.0   665.0 -2.865896\n",
       "0.2  -1.870872  3.458856e-01  10.0  1354.0 -2.863677\n",
       "0.3  -3.776981  3.151803e-03  19.0  2452.0 -2.862719\n",
       "0.4  -4.581603  1.396396e-04  19.0  3269.0 -2.862425\n",
       "0.5  -5.725840  6.774644e-07  19.0  3800.0 -2.862301\n",
       "0.6  -7.143825  3.271706e-10  19.0  4137.0 -2.862239\n",
       "0.7  -8.574161  8.047031e-14  19.0  4355.0 -2.862204\n",
       "0.8 -10.222635  5.275675e-18  20.0  4498.0 -2.862183\n",
       "0.9 -11.536545  3.721430e-21  20.0  4601.0 -2.862168\n",
       "1.0 -12.925147  3.801682e-24  20.0  4724.0 -2.862152"
      ]
     },
     "metadata": {},
     "output_type": "display_data"
    },
    {
     "data": {
      "image/png": "[encoded data removed]",
      "text/plain": [
       "<Figure size 748.8x514.8 with 1 Axes>"
      ]
     },
     "metadata": {
      "needs_background": "light"
     },
     "output_type": "display_data"
    }
   ],
   "source": [
    "analyze_ffd('upper_band')"
   ]
  },
  {
   "cell_type": "code",
   "execution_count": 43,
   "metadata": {},
   "outputs": [
    {
     "data": {
      "text/html": [
       "<div>\n",
       "<style scoped>\n",
       "    .dataframe tbody tr th:only-of-type {\n",
       "        vertical-align: middle;\n",
       "    }\n",
       "\n",
       "    .dataframe tbody tr th {\n",
       "        vertical-align: top;\n",
       "    }\n",
       "\n",
       "    .dataframe thead th {\n",
       "        text-align: right;\n",
       "    }\n",
       "</style>\n",
       "<table border=\"1\" class=\"dataframe\">\n",
       "  <thead>\n",
       "    <tr style=\"text-align: right;\">\n",
       "      <th></th>\n",
       "      <th>adfStat</th>\n",
       "      <th>pVal</th>\n",
       "      <th>lags</th>\n",
       "      <th>nObs</th>\n",
       "      <th>95% conf</th>\n",
       "    </tr>\n",
       "  </thead>\n",
       "  <tbody>\n",
       "    <tr>\n",
       "      <th>0.0</th>\n",
       "      <td>-1.499056</td>\n",
       "      <td>5.339784e-01</td>\n",
       "      <td>29.0</td>\n",
       "      <td>4716.0</td>\n",
       "      <td>-2.862153</td>\n",
       "    </tr>\n",
       "    <tr>\n",
       "      <th>0.1</th>\n",
       "      <td>-0.892397</td>\n",
       "      <td>7.904660e-01</td>\n",
       "      <td>8.0</td>\n",
       "      <td>662.0</td>\n",
       "      <td>-2.865916</td>\n",
       "    </tr>\n",
       "    <tr>\n",
       "      <th>0.2</th>\n",
       "      <td>-1.627469</td>\n",
       "      <td>4.688157e-01</td>\n",
       "      <td>18.0</td>\n",
       "      <td>1346.0</td>\n",
       "      <td>-2.863690</td>\n",
       "    </tr>\n",
       "    <tr>\n",
       "      <th>0.3</th>\n",
       "      <td>-2.622484</td>\n",
       "      <td>8.843869e-02</td>\n",
       "      <td>27.0</td>\n",
       "      <td>2444.0</td>\n",
       "      <td>-2.862723</td>\n",
       "    </tr>\n",
       "    <tr>\n",
       "      <th>0.4</th>\n",
       "      <td>-2.999581</td>\n",
       "      <td>3.493353e-02</td>\n",
       "      <td>3.0</td>\n",
       "      <td>3285.0</td>\n",
       "      <td>-2.862420</td>\n",
       "    </tr>\n",
       "    <tr>\n",
       "      <th>0.5</th>\n",
       "      <td>-3.830713</td>\n",
       "      <td>2.608258e-03</td>\n",
       "      <td>10.0</td>\n",
       "      <td>3809.0</td>\n",
       "      <td>-2.862299</td>\n",
       "    </tr>\n",
       "    <tr>\n",
       "      <th>0.6</th>\n",
       "      <td>-5.003118</td>\n",
       "      <td>2.187992e-05</td>\n",
       "      <td>11.0</td>\n",
       "      <td>4145.0</td>\n",
       "      <td>-2.862238</td>\n",
       "    </tr>\n",
       "    <tr>\n",
       "      <th>0.7</th>\n",
       "      <td>-4.964009</td>\n",
       "      <td>2.613603e-05</td>\n",
       "      <td>28.0</td>\n",
       "      <td>4346.0</td>\n",
       "      <td>-2.862205</td>\n",
       "    </tr>\n",
       "    <tr>\n",
       "      <th>0.8</th>\n",
       "      <td>-5.870908</td>\n",
       "      <td>3.242006e-07</td>\n",
       "      <td>28.0</td>\n",
       "      <td>4490.0</td>\n",
       "      <td>-2.862184</td>\n",
       "    </tr>\n",
       "    <tr>\n",
       "      <th>0.9</th>\n",
       "      <td>-6.426037</td>\n",
       "      <td>1.743635e-08</td>\n",
       "      <td>32.0</td>\n",
       "      <td>4589.0</td>\n",
       "      <td>-2.862170</td>\n",
       "    </tr>\n",
       "    <tr>\n",
       "      <th>1.0</th>\n",
       "      <td>-7.382517</td>\n",
       "      <td>8.399962e-11</td>\n",
       "      <td>32.0</td>\n",
       "      <td>4712.0</td>\n",
       "      <td>-2.862154</td>\n",
       "    </tr>\n",
       "  </tbody>\n",
       "</table>\n",
       "</div>"
      ],
      "text/plain": [
       "      adfStat          pVal  lags    nObs  95% conf\n",
       "0.0 -1.499056  5.339784e-01  29.0  4716.0 -2.862153\n",
       "0.1 -0.892397  7.904660e-01   8.0   662.0 -2.865916\n",
       "0.2 -1.627469  4.688157e-01  18.0  1346.0 -2.863690\n",
       "0.3 -2.622484  8.843869e-02  27.0  2444.0 -2.862723\n",
       "0.4 -2.999581  3.493353e-02   3.0  3285.0 -2.862420\n",
       "0.5 -3.830713  2.608258e-03  10.0  3809.0 -2.862299\n",
       "0.6 -5.003118  2.187992e-05  11.0  4145.0 -2.862238\n",
       "0.7 -4.964009  2.613603e-05  28.0  4346.0 -2.862205\n",
       "0.8 -5.870908  3.242006e-07  28.0  4490.0 -2.862184\n",
       "0.9 -6.426037  1.743635e-08  32.0  4589.0 -2.862170\n",
       "1.0 -7.382517  8.399962e-11  32.0  4712.0 -2.862154"
      ]
     },
     "metadata": {},
     "output_type": "display_data"
    },
    {
     "data": {
      "image/png": "[encoded data removed]",
      "text/plain": [
       "<Figure size 748.8x514.8 with 1 Axes>"
      ]
     },
     "metadata": {
      "needs_background": "light"
     },
     "output_type": "display_data"
    }
   ],
   "source": [
    "analyze_ffd('senkou_span_b')"
   ]
  },
  {
   "cell_type": "markdown",
   "metadata": {},
   "source": [
    "Optionally, we may tweak the analyze_ffd function to return the minimum value of d that makes a series stationary. However, experiments show, that d=0.35 is applicable in most cases. Therefore, to we may reduce computational cost and use this constant."
   ]
  },
  {
   "cell_type": "code",
   "execution_count": 44,
   "metadata": {},
   "outputs": [],
   "source": [
    "d=0.35"
   ]
  },
  {
   "cell_type": "code",
   "execution_count": 45,
   "metadata": {},
   "outputs": [],
   "source": [
    "df = pd.concat([frac_diff_ffd(pd.DataFrame(features[c].dropna()), diff_amt=d, thresh=1e-5)  for c in non_stationary.keys()], axis = 1)"
   ]
  },
  {
   "cell_type": "code",
   "execution_count": 46,
   "metadata": {},
   "outputs": [
    {
     "data": {
      "text/plain": [
       "{'senkou_span_b': 'non-stationary'}"
      ]
     },
     "execution_count": 46,
     "metadata": {},
     "output_type": "execute_result"
    }
   ],
   "source": [
    "non_stationary = {col:'non-stationary' for col in df.columns if adfuller(df[col].dropna())[1]>0.05}\n",
    "non_stationary"
   ]
  },
  {
   "cell_type": "markdown",
   "metadata": {},
   "source": [
    "After the above operation, all features except for 'senkou_span_b' are stationary.\n",
    "However, as a result of this operation we lost a significant number of rows because they were used to 'smooth' the differencing."
   ]
  },
  {
   "cell_type": "code",
   "execution_count": 47,
   "metadata": {},
   "outputs": [
    {
     "name": "stdout",
     "output_type": "stream",
     "text": [
      "Initial number of rows:        4746\n",
      "Number of rows after fracDiff: 2921\n"
     ]
    }
   ],
   "source": [
    "print(f'''Initial number of rows:        {features.shape[0]}\n",
    "Number of rows after fracDiff: {df.dropna().shape[0]}''')"
   ]
  },
  {
   "cell_type": "markdown",
   "metadata": {},
   "source": [
    "### Conclusion\n",
    "Fractionally differentiated features can be used in further analysis as inputs for machine learning models. However, to have enough data we may need to increase our the time span of the input data. "
   ]
  }
 ],
 "metadata": {
  "kernelspec": {
   "display_name": "Python 3",
   "language": "python",
   "name": "python3"
  },
  "language_info": {
   "codemirror_mode": {
    "name": "ipython",
    "version": 3
   },
   "file_extension": ".py",
   "mimetype": "text/x-python",
   "name": "python",
   "nbconvert_exporter": "python",
   "pygments_lexer": "ipython3",
   "version": "3.7.3"
  }
 },
 "nbformat": 4,
 "nbformat_minor": 4
}
