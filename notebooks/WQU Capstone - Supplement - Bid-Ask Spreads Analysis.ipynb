{
 "cells": [
  {
   "cell_type": "markdown",
   "metadata": {},
   "source": [
    "# WQU Capstone project - Short-term trading strategy on G10 currencies\n",
    "## Supplement - Bid-Ask Spreads Analysis\n",
    "\n",
    "* Sergey Chigrinov - chigrinov.s.88@gmail.com\n",
    "* Dhruv Agrawal -  dhruva1@stanfordalumni.org\n",
    "* Man Sing Ho - mshoalbert@gmail.com\n",
    "\n",
    "### Jun-Aug-2020"
   ]
  },
  {
   "cell_type": "markdown",
   "metadata": {},
   "source": [
    "In this workbook we analyze bid/ask spreads by currency to understand possible losses coming from it."
   ]
  },
  {
   "cell_type": "code",
   "execution_count": 5,
   "metadata": {},
   "outputs": [],
   "source": [
    "import sys\n",
    "import os\n",
    "#insert you own path or use relative path\n",
    "path_to_project = os.path.realpath('..') # r'C:\\WQU\\Capstone\\Working_files'\n",
    "sys.path.append(path_to_project)"
   ]
  },
  {
   "cell_type": "code",
   "execution_count": 6,
   "metadata": {},
   "outputs": [],
   "source": [
    "import pandas as pd\n",
    "import numpy as np\n",
    "import warnings\n",
    "warnings.filterwarnings('ignore')"
   ]
  },
  {
   "cell_type": "code",
   "execution_count": 7,
   "metadata": {},
   "outputs": [],
   "source": [
    "import matplotlib as mpl\n",
    "import matplotlib.pyplot as plt\n",
    "import seaborn as sns\n",
    "%matplotlib inline\n",
    "plt.style.use('seaborn-talk')\n",
    "plt.style.use('bmh')"
   ]
  },
  {
   "cell_type": "code",
   "execution_count": 8,
   "metadata": {},
   "outputs": [],
   "source": [
    "tickers = ['AUD/USD','AUD/CAD','AUD/JPY','EUR/USD','GBP/USD','NZD/USD','USD/CAD', 'USD/JPY']\n",
    "ticker = 'AUD/USD'\n",
    "input_path = os.path.join(path_to_project, 'input_data', ''.join(ticker.split('/')) + '.csv')\n",
    "pair = pd.read_csv(input_path)"
   ]
  },
  {
   "cell_type": "code",
   "execution_count": 30,
   "metadata": {},
   "outputs": [
    {
     "name": "stdout",
     "output_type": "stream",
     "text": [
      "AUD/USD:0.02%\n",
      "AUD/CAD:0.04%\n",
      "AUD/JPY:0.03%\n",
      "EUR/USD:0.02%\n",
      "GBP/USD:0.02%\n",
      "NZD/USD:0.04%\n",
      "USD/CAD:0.02%\n",
      "USD/JPY:0.02%\n"
     ]
    }
   ],
   "source": [
    "bidask_losses = {}\n",
    "for ticker in tickers:\n",
    "    input_path = os.path.join(path_to_project, 'input_data', ''.join(ticker.split('/')) + '.csv')\n",
    "    pair = pd.read_csv(input_path)\n",
    "    bidask_losses[ticker] = np.mean((pair['askclose'] - pair['bidclose'])/pair['bidclose'])*100\n",
    "print('\\n'.join(f'{k}:{v:.02f}%' for k,v in  bidask_losses.items()))"
   ]
  },
  {
   "cell_type": "markdown",
   "metadata": {},
   "source": [
    "### Conclusion\n",
    "While bid-ask spreads for liquid currencies are pretty low, they can eat up to 4 b.p. of your returns. This may vary depending on your broker. It is worth taking this into account when releasing your algo trading strategies. \n",
    "\n",
    "Slippage cost may be taken into account as well if doing detailed analysis as a futrher step."
   ]
  }
 ],
 "metadata": {
  "kernelspec": {
   "display_name": "Python 3",
   "language": "python",
   "name": "python3"
  },
  "language_info": {
   "codemirror_mode": {
    "name": "ipython",
    "version": 3
   },
   "file_extension": ".py",
   "mimetype": "text/x-python",
   "name": "python",
   "nbconvert_exporter": "python",
   "pygments_lexer": "ipython3",
   "version": "3.6.10"
  }
 },
 "nbformat": 4,
 "nbformat_minor": 4
}
